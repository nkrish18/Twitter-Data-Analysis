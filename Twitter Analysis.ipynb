{
 "cells": [
  {
   "cell_type": "markdown",
   "metadata": {
    "deletable": true,
    "editable": true
   },
   "source": [
    "# Twitter Data Analysis"
   ]
  },
  {
   "cell_type": "code",
   "execution_count": 40,
   "metadata": {
    "collapsed": true,
    "deletable": true,
    "editable": true
   },
   "outputs": [],
   "source": [
    "#Importing required packages\n",
    "\n",
    "import pandas as pd     \n",
    "import numpy as np      \n",
    "import tweepy #This is used for accessing the twitter API\n",
    "from IPython.display import display\n",
    "import matplotlib.pyplot as plt\n",
    "import seaborn as sns\n",
    "\n",
    "%matplotlib inline"
   ]
  },
  {
   "cell_type": "markdown",
   "metadata": {
    "deletable": true,
    "editable": true
   },
   "source": [
    "The following snippet of code is used for connecting with my twitter account and accessing the data. The consumer keys and access tokens are unique to each account and hence I couldn't display mine."
   ]
  },
  {
   "cell_type": "code",
   "execution_count": 1,
   "metadata": {
    "collapsed": false,
    "deletable": true,
    "editable": true
   },
   "outputs": [
    {
     "data": {
      "text/plain": [
       "\"\\nconsumer_key = ''\\nconsumer_secret = ''\\n\\naccess_token = ''\\naccess_token_secret = ''\\n\\n\\nauth = tweepy.OAuthHandler(consumer_key,consumer_secret)\\nauth.set_access_token(access_token, access_token_secret)\\n\\napi = tweepy.API(auth)\\n\""
      ]
     },
     "execution_count": 1,
     "metadata": {},
     "output_type": "execute_result"
    }
   ],
   "source": [
    "'''\n",
    "consumer_key = ''\n",
    "consumer_secret = ''\n",
    "\n",
    "access_token = ''\n",
    "access_token_secret = ''\n",
    "\n",
    "\n",
    "auth = tweepy.OAuthHandler(consumer_key,consumer_secret)\n",
    "auth.set_access_token(access_token, access_token_secret)\n",
    "\n",
    "api = tweepy.API(auth)\n",
    "\n",
    "'''"
   ]
  },
  {
   "cell_type": "markdown",
   "metadata": {
    "deletable": true,
    "editable": true
   },
   "source": [
    "From each of the three news channels, 200 tweets are extracted."
   ]
  },
  {
   "cell_type": "code",
   "execution_count": 3,
   "metadata": {
    "collapsed": false,
    "deletable": true,
    "editable": true
   },
   "outputs": [],
   "source": [
    "bbc = api.user_timeline(screen_name=\"BBCWorld\",count = 200)\n",
    "cnn = api.user_timeline(screen_name=\"cnni\",count = 200)\n",
    "abc = api.user_timeline(screen_name=\"abcWNN\",count = 200)"
   ]
  },
  {
   "cell_type": "code",
   "execution_count": 9,
   "metadata": {
    "collapsed": false,
    "deletable": true,
    "editable": true
   },
   "outputs": [
    {
     "name": "stdout",
     "output_type": "stream",
     "text": [
      "Number of tweets extracted from BBC:  200\n"
     ]
    }
   ],
   "source": [
    "print(\"Number of tweets extracted from BBC: \",len(bbc))"
   ]
  },
  {
   "cell_type": "code",
   "execution_count": 10,
   "metadata": {
    "collapsed": false,
    "deletable": true,
    "editable": true
   },
   "outputs": [
    {
     "name": "stdout",
     "output_type": "stream",
     "text": [
      "5 recent tweets from abc: \n",
      "\n",
      "WATCH: A Virginia driver WRECKED his $300,000 McLaren one day after purchasing it! https://t.co/oJSNBlveFp\n",
      "\n",
      "WATCH:  A Colorado family is alerting parents after their 3-year-old became trapped in a locked front-loading washi… https://t.co/ArLuZ55PyW\n",
      "\n",
      "IT’S AMAZON PRIME DAY! The bargain bonanza kicks off at 3pm EDT! Retailers like Macy’s and Kohl’s are releasing the… https://t.co/m0J4LPHGBG\n",
      "\n",
      "NEW DETAILS: Chicago police released body cam video of the fatal shooting of a black man, following protests that l… https://t.co/Evc0YTqbzm\n",
      "\n",
      "NEW THIS MORNING: Hours before his summit with Vladimir Putin, President Trump blamed past U.S. “foolishness” for i… https://t.co/gygVbggYhC\n",
      "\n"
     ]
    }
   ],
   "source": [
    "# Five tweets are displayed from CNN\n",
    "\n",
    "ls = [bbc,cnn,abc]\n",
    "print(\"5 recent tweets from abc: \\n\")\n",
    "for tweet in abc[:5]:\n",
    "    print(tweet.text)\n",
    "    print()"
   ]
  },
  {
   "cell_type": "markdown",
   "metadata": {
    "deletable": true,
    "editable": true
   },
   "source": [
    "Three new dataframes are created, each containing the tweets from ech of the three channels."
   ]
  },
  {
   "cell_type": "code",
   "execution_count": 12,
   "metadata": {
    "collapsed": false,
    "deletable": true,
    "editable": true
   },
   "outputs": [],
   "source": [
    "dfs = []\n",
    "for i,j in enumerate(ls):\n",
    "    df = pd.DataFrame(data = [tweet.text for tweet in j], columns=['Tweets'])\n",
    "    dfs.append(df)\n",
    "    \n",
    "df_bbc = dfs[0]\n",
    "df_cnn = dfs[1]\n",
    "df_abc = dfs[2]"
   ]
  },
  {
   "cell_type": "code",
   "execution_count": 13,
   "metadata": {
    "collapsed": false,
    "deletable": true,
    "editable": true
   },
   "outputs": [
    {
     "data": {
      "text/html": [
       "<div>\n",
       "<style>\n",
       "    .dataframe thead tr:only-child th {\n",
       "        text-align: right;\n",
       "    }\n",
       "\n",
       "    .dataframe thead th {\n",
       "        text-align: left;\n",
       "    }\n",
       "\n",
       "    .dataframe tbody tr th {\n",
       "        vertical-align: top;\n",
       "    }\n",
       "</style>\n",
       "<table border=\"1\" class=\"dataframe\">\n",
       "  <thead>\n",
       "    <tr style=\"text-align: right;\">\n",
       "      <th></th>\n",
       "      <th>Tweets</th>\n",
       "    </tr>\n",
       "  </thead>\n",
       "  <tbody>\n",
       "    <tr>\n",
       "      <th>0</th>\n",
       "      <td>US nuclear materials stolen last year are stil...</td>\n",
       "    </tr>\n",
       "    <tr>\n",
       "      <th>1</th>\n",
       "      <td>RT @BBCSport: An unusual arrival! \\n\\nDiego Ma...</td>\n",
       "    </tr>\n",
       "    <tr>\n",
       "      <th>2</th>\n",
       "      <td>Kilauea volcano: Flying lava injures 13 in Haw...</td>\n",
       "    </tr>\n",
       "    <tr>\n",
       "      <th>3</th>\n",
       "      <td>RT @BBCNews: 🎄🎄🎄 https://t.co/ri02D4eTkw</td>\n",
       "    </tr>\n",
       "    <tr>\n",
       "      <th>4</th>\n",
       "      <td>French fans give #worldcup winners a heroes' w...</td>\n",
       "    </tr>\n",
       "  </tbody>\n",
       "</table>\n",
       "</div>"
      ],
      "text/plain": [
       "                                              Tweets\n",
       "0  US nuclear materials stolen last year are stil...\n",
       "1  RT @BBCSport: An unusual arrival! \\n\\nDiego Ma...\n",
       "2  Kilauea volcano: Flying lava injures 13 in Haw...\n",
       "3           RT @BBCNews: 🎄🎄🎄 https://t.co/ri02D4eTkw\n",
       "4  French fans give #worldcup winners a heroes' w..."
      ]
     },
     "execution_count": 13,
     "metadata": {},
     "output_type": "execute_result"
    }
   ],
   "source": [
    "df_bbc.head()"
   ]
  },
  {
   "cell_type": "code",
   "execution_count": 15,
   "metadata": {
    "collapsed": false,
    "deletable": true,
    "editable": true,
    "scrolled": true
   },
   "outputs": [
    {
     "data": {
      "text/plain": [
       "['__class__',\n",
       " '__delattr__',\n",
       " '__dict__',\n",
       " '__dir__',\n",
       " '__doc__',\n",
       " '__eq__',\n",
       " '__format__',\n",
       " '__ge__',\n",
       " '__getattribute__',\n",
       " '__getstate__',\n",
       " '__gt__',\n",
       " '__hash__',\n",
       " '__init__',\n",
       " '__le__',\n",
       " '__lt__',\n",
       " '__module__',\n",
       " '__ne__',\n",
       " '__new__',\n",
       " '__reduce__',\n",
       " '__reduce_ex__',\n",
       " '__repr__',\n",
       " '__setattr__',\n",
       " '__sizeof__',\n",
       " '__str__',\n",
       " '__subclasshook__',\n",
       " '__weakref__',\n",
       " '_api',\n",
       " '_json',\n",
       " 'author',\n",
       " 'contributors',\n",
       " 'coordinates',\n",
       " 'created_at',\n",
       " 'destroy',\n",
       " 'entities',\n",
       " 'favorite',\n",
       " 'favorite_count',\n",
       " 'favorited',\n",
       " 'geo',\n",
       " 'id',\n",
       " 'id_str',\n",
       " 'in_reply_to_screen_name',\n",
       " 'in_reply_to_status_id',\n",
       " 'in_reply_to_status_id_str',\n",
       " 'in_reply_to_user_id',\n",
       " 'in_reply_to_user_id_str',\n",
       " 'is_quote_status',\n",
       " 'lang',\n",
       " 'parse',\n",
       " 'parse_list',\n",
       " 'place',\n",
       " 'possibly_sensitive',\n",
       " 'retweet',\n",
       " 'retweet_count',\n",
       " 'retweeted',\n",
       " 'retweets',\n",
       " 'source',\n",
       " 'source_url',\n",
       " 'text',\n",
       " 'truncated',\n",
       " 'user']"
      ]
     },
     "execution_count": 15,
     "metadata": {},
     "output_type": "execute_result"
    }
   ],
   "source": [
    "#Internal methods for a single tweet object:\n",
    "dir(bbc[2])"
   ]
  },
  {
   "cell_type": "markdown",
   "metadata": {
    "deletable": true,
    "editable": true
   },
   "source": [
    "The following attributes for each tweet are addded to the dataframes:\n",
    "Length, ID, Date, Source, Likes, Retweets\n"
   ]
  },
  {
   "cell_type": "code",
   "execution_count": 16,
   "metadata": {
    "collapsed": false,
    "deletable": true,
    "editable": true
   },
   "outputs": [],
   "source": [
    "\n",
    "for i in range(3):\n",
    "    dfs[i]['len'] = np.array([len(tweet.text) for tweet in ls[i]])\n",
    "    dfs[i]['ID']   = np.array([tweet.id for tweet in ls[i]])\n",
    "    dfs[i]['Date'] = np.array([tweet.created_at for tweet in ls[i]])\n",
    "    dfs[i]['Source'] = np.array([tweet.source for tweet in ls[i]])\n",
    "    dfs[i]['Likes']  = np.array([tweet.favorite_count for tweet in ls[i]])\n",
    "    dfs[i]['RTs']    = np.array([tweet.retweet_count for tweet in ls[i]])"
   ]
  },
  {
   "cell_type": "code",
   "execution_count": 17,
   "metadata": {
    "collapsed": false,
    "deletable": true,
    "editable": true
   },
   "outputs": [
    {
     "data": {
      "text/html": [
       "<div>\n",
       "<style>\n",
       "    .dataframe thead tr:only-child th {\n",
       "        text-align: right;\n",
       "    }\n",
       "\n",
       "    .dataframe thead th {\n",
       "        text-align: left;\n",
       "    }\n",
       "\n",
       "    .dataframe tbody tr th {\n",
       "        vertical-align: top;\n",
       "    }\n",
       "</style>\n",
       "<table border=\"1\" class=\"dataframe\">\n",
       "  <thead>\n",
       "    <tr style=\"text-align: right;\">\n",
       "      <th></th>\n",
       "      <th>Tweets</th>\n",
       "      <th>len</th>\n",
       "      <th>ID</th>\n",
       "      <th>Date</th>\n",
       "      <th>Source</th>\n",
       "      <th>Likes</th>\n",
       "      <th>RTs</th>\n",
       "    </tr>\n",
       "  </thead>\n",
       "  <tbody>\n",
       "    <tr>\n",
       "      <th>0</th>\n",
       "      <td>US nuclear materials stolen last year are stil...</td>\n",
       "      <td>79</td>\n",
       "      <td>1018989783400542208</td>\n",
       "      <td>2018-07-16 22:44:30</td>\n",
       "      <td>SocialFlow</td>\n",
       "      <td>144</td>\n",
       "      <td>159</td>\n",
       "    </tr>\n",
       "    <tr>\n",
       "      <th>1</th>\n",
       "      <td>RT @BBCSport: An unusual arrival! \\n\\nDiego Ma...</td>\n",
       "      <td>139</td>\n",
       "      <td>1018975877487579137</td>\n",
       "      <td>2018-07-16 21:49:15</td>\n",
       "      <td>TweetDeck</td>\n",
       "      <td>0</td>\n",
       "      <td>62</td>\n",
       "    </tr>\n",
       "    <tr>\n",
       "      <th>2</th>\n",
       "      <td>Kilauea volcano: Flying lava injures 13 in Haw...</td>\n",
       "      <td>73</td>\n",
       "      <td>1018967279093141504</td>\n",
       "      <td>2018-07-16 21:15:05</td>\n",
       "      <td>SocialFlow</td>\n",
       "      <td>149</td>\n",
       "      <td>107</td>\n",
       "    </tr>\n",
       "    <tr>\n",
       "      <th>3</th>\n",
       "      <td>RT @BBCNews: 🎄🎄🎄 https://t.co/ri02D4eTkw</td>\n",
       "      <td>40</td>\n",
       "      <td>1018964308032540674</td>\n",
       "      <td>2018-07-16 21:03:17</td>\n",
       "      <td>TweetDeck</td>\n",
       "      <td>0</td>\n",
       "      <td>65</td>\n",
       "    </tr>\n",
       "    <tr>\n",
       "      <th>4</th>\n",
       "      <td>French fans give #worldcup winners a heroes' w...</td>\n",
       "      <td>123</td>\n",
       "      <td>1018954325182304258</td>\n",
       "      <td>2018-07-16 20:23:37</td>\n",
       "      <td>SocialFlow</td>\n",
       "      <td>771</td>\n",
       "      <td>213</td>\n",
       "    </tr>\n",
       "  </tbody>\n",
       "</table>\n",
       "</div>"
      ],
      "text/plain": [
       "                                              Tweets  len  \\\n",
       "0  US nuclear materials stolen last year are stil...   79   \n",
       "1  RT @BBCSport: An unusual arrival! \\n\\nDiego Ma...  139   \n",
       "2  Kilauea volcano: Flying lava injures 13 in Haw...   73   \n",
       "3           RT @BBCNews: 🎄🎄🎄 https://t.co/ri02D4eTkw   40   \n",
       "4  French fans give #worldcup winners a heroes' w...  123   \n",
       "\n",
       "                    ID                Date      Source  Likes  RTs  \n",
       "0  1018989783400542208 2018-07-16 22:44:30  SocialFlow    144  159  \n",
       "1  1018975877487579137 2018-07-16 21:49:15   TweetDeck      0   62  \n",
       "2  1018967279093141504 2018-07-16 21:15:05  SocialFlow    149  107  \n",
       "3  1018964308032540674 2018-07-16 21:03:17   TweetDeck      0   65  \n",
       "4  1018954325182304258 2018-07-16 20:23:37  SocialFlow    771  213  "
      ]
     },
     "execution_count": 17,
     "metadata": {},
     "output_type": "execute_result"
    }
   ],
   "source": [
    "dfs[0].head()"
   ]
  },
  {
   "cell_type": "markdown",
   "metadata": {
    "deletable": true,
    "editable": true
   },
   "source": [
    "The average number of characters tweeted by each channel in calculated."
   ]
  },
  {
   "cell_type": "code",
   "execution_count": 18,
   "metadata": {
    "collapsed": false,
    "deletable": true,
    "editable": true
   },
   "outputs": [
    {
     "name": "stdout",
     "output_type": "stream",
     "text": [
      "Mean nuumber of characters for BBC: 101.175\n",
      "Mean nuumber of characters for CNN: 131.08\n",
      "Mean nuumber of characters for ABC: 137.45\n"
     ]
    }
   ],
   "source": [
    "channels = ['BBC','CNN','ABC']\n",
    "for index,channel in enumerate(channels):\n",
    "    mean = dfs[index]['len'].mean()\n",
    "    print('Mean nuumber of characters for ' + channel + ':' ,mean)"
   ]
  },
  {
   "cell_type": "markdown",
   "metadata": {
    "deletable": true,
    "editable": true
   },
   "source": [
    "The tweet with the most number of likes and retweets for each channel is determined."
   ]
  },
  {
   "cell_type": "code",
   "execution_count": 19,
   "metadata": {
    "collapsed": false,
    "deletable": true,
    "editable": true
   },
   "outputs": [
    {
     "name": "stdout",
     "output_type": "stream",
     "text": [
      "For BBC:\n",
      "The tweet with most likes is: \n",
      "The #ThaiCaveRescue boys made a video - and there's one thing on their minds 🍔🍖🍚\n",
      "\n",
      "https://t.co/ItRHFs3NYd https://t.co/goRYTyRJ9e\n",
      "Number of likes: 19356\n",
      "129 characters.\n",
      "\n",
      "The tweet with most retweets is: \n",
      "RT @BBCNews: Thousands join #TrumpProtest in London's Regent Street as #TrumpVisitUK continues\n",
      "\n",
      "Follow our coverage: https://t.co/BlLsEwC8Y…\n",
      "Number of retweets: 14980\n",
      "140 characters.\n",
      "\n",
      "-----------------------------------------------------------------\n",
      "For CNN:\n",
      "The tweet with most likes is: \n",
      "Homeland Security Secretary Kirstjen Nielsen warns state officials that the threat from Russia targeting US electio… https://t.co/FUP6N22yU4\n",
      "Number of likes: 1292\n",
      "140 characters.\n",
      "\n",
      "The tweet with most retweets is: \n",
      "RT @cnnsport: Before Paul Pogba's goal, a player hadn't scored from outside the box in a World Cup final for 36 years. \n",
      "\n",
      "Kylian Mbappé did…\n",
      "Number of retweets: 1448\n",
      "139 characters.\n",
      "\n",
      "-----------------------------------------------------------------\n",
      "For ABC:\n",
      "The tweet with most likes is: \n",
      "NEW POLKA ALERT! Check out the latest rendition of the one and only World News Polka featuring YouTube star… https://t.co/OvclkR5gTY\n",
      "Number of likes: 217\n",
      "132 characters.\n",
      "\n",
      "The tweet with most retweets is: \n",
      "RT @ABC: WATCH: @ABC News Special Report: Rescue mission underway to remove 12 boys, soccer coach trapped in a cave in Thailand for two wee…\n",
      "Number of retweets: 470\n",
      "140 characters.\n",
      "\n",
      "-----------------------------------------------------------------\n"
     ]
    }
   ],
   "source": [
    "#Most likes and retweets\n",
    "\n",
    "for index,channel in enumerate(channels):\n",
    "    print(\"For \" + channel + \":\")\n",
    "    fav_max = np.max(dfs[index]['Likes'])\n",
    "    rt_max  = np.max(dfs[index]['RTs'])\n",
    "    fav = dfs[index][dfs[index].Likes == fav_max].index[0]\n",
    "    rt  = dfs[index][dfs[index].RTs == rt_max].index[0]\n",
    "    # Max FAVs:\n",
    "    print(\"The tweet with most likes is: \\n{}\".format(dfs[index]['Tweets'][fav]))\n",
    "    print(\"Number of likes: {}\".format(fav_max))\n",
    "    print(\"{} characters.\\n\".format(dfs[index]['len'][fav]))\n",
    "\n",
    "    # Max RTs:\n",
    "    print(\"The tweet with most retweets is: \\n{}\".format(dfs[index]['Tweets'][rt]))\n",
    "    print(\"Number of retweets: {}\".format(rt_max))\n",
    "    print(\"{} characters.\\n\".format(dfs[index]['len'][rt]))\n",
    "    print(\"-----------------------------------------------------------------\")\n",
    "    \n"
   ]
  },
  {
   "cell_type": "markdown",
   "metadata": {
    "deletable": true,
    "editable": true
   },
   "source": [
    "## Visualizations "
   ]
  },
  {
   "cell_type": "markdown",
   "metadata": {
    "deletable": true,
    "editable": true
   },
   "source": [
    "A visulaization to understand how the trend of likes and retweets change over time is generated for each channel."
   ]
  },
  {
   "cell_type": "code",
   "execution_count": 20,
   "metadata": {
    "collapsed": false,
    "deletable": true,
    "editable": true
   },
   "outputs": [
    {
     "name": "stdout",
     "output_type": "stream",
     "text": [
      "For BBC\n"
     ]
    },
    {
     "data": {
      "image/png": "[encoded data removed]",
      "text/plain": [
       "<matplotlib.figure.Figure at 0x1c0d60d9fd0>"
      ]
     },
     "metadata": {},
     "output_type": "display_data"
    },
    {
     "name": "stdout",
     "output_type": "stream",
     "text": [
      "----------------------------------------------------------\n",
      "For CNN\n"
     ]
    },
    {
     "data": {
      "image/png": "[encoded data removed]",
      "text/plain": [
       "<matplotlib.figure.Figure at 0x1c0d87292b0>"
      ]
     },
     "metadata": {},
     "output_type": "display_data"
    },
    {
     "name": "stdout",
     "output_type": "stream",
     "text": [
      "----------------------------------------------------------\n",
      "For ABC\n"
     ]
    },
    {
     "data": {
      "image/png": "[encoded data removed]",
      "text/plain": [
       "<matplotlib.figure.Figure at 0x1c0d8842f28>"
      ]
     },
     "metadata": {},
     "output_type": "display_data"
    },
    {
     "name": "stdout",
     "output_type": "stream",
     "text": [
      "----------------------------------------------------------\n"
     ]
    }
   ],
   "source": [
    "# A time series is created here for the tweets\n",
    "\n",
    "for i,channel in enumerate(channels):\n",
    "    tlen = pd.Series(data=dfs[i]['len'].values, index=dfs[i]['Date'])\n",
    "    tfav = pd.Series(data=dfs[i]['Likes'].values, index=dfs[i]['Date'])\n",
    "    tret = pd.Series(data=dfs[i]['RTs'].values, index=dfs[i]['Date'])\n",
    "\n",
    "    print('For '+ channel)\n",
    "    tfav.plot(figsize=(16,4), label=\"Likes\", legend=True)\n",
    "    tret.plot(figsize=(16,4), label=\"Retweets\", legend=True)\n",
    "    plt.show()             \n",
    "    print('----------------------------------------------------------')"
   ]
  },
  {
   "cell_type": "markdown",
   "metadata": {
    "deletable": true,
    "editable": true
   },
   "source": [
    "### Pie Chart of sources"
   ]
  },
  {
   "cell_type": "markdown",
   "metadata": {
    "deletable": true,
    "editable": true
   },
   "source": [
    "The different sources from which the tweets are tweeted are determined and plotted in a pie chart."
   ]
  },
  {
   "cell_type": "code",
   "execution_count": 24,
   "metadata": {
    "collapsed": false,
    "deletable": true,
    "editable": true
   },
   "outputs": [
    {
     "data": {
      "text/html": [
       "<div>\n",
       "<style>\n",
       "    .dataframe thead tr:only-child th {\n",
       "        text-align: right;\n",
       "    }\n",
       "\n",
       "    .dataframe thead th {\n",
       "        text-align: left;\n",
       "    }\n",
       "\n",
       "    .dataframe tbody tr th {\n",
       "        vertical-align: top;\n",
       "    }\n",
       "</style>\n",
       "<table border=\"1\" class=\"dataframe\">\n",
       "  <thead>\n",
       "    <tr style=\"text-align: right;\">\n",
       "      <th></th>\n",
       "      <th>Tweets</th>\n",
       "      <th>len</th>\n",
       "      <th>ID</th>\n",
       "      <th>Date</th>\n",
       "      <th>Source</th>\n",
       "      <th>Likes</th>\n",
       "      <th>RTs</th>\n",
       "    </tr>\n",
       "  </thead>\n",
       "  <tbody>\n",
       "    <tr>\n",
       "      <th>0</th>\n",
       "      <td>US nuclear materials stolen last year are stil...</td>\n",
       "      <td>79</td>\n",
       "      <td>1018989783400542208</td>\n",
       "      <td>2018-07-16 22:44:30</td>\n",
       "      <td>SocialFlow</td>\n",
       "      <td>144</td>\n",
       "      <td>159</td>\n",
       "    </tr>\n",
       "    <tr>\n",
       "      <th>1</th>\n",
       "      <td>RT @BBCSport: An unusual arrival! \\n\\nDiego Ma...</td>\n",
       "      <td>139</td>\n",
       "      <td>1018975877487579137</td>\n",
       "      <td>2018-07-16 21:49:15</td>\n",
       "      <td>TweetDeck</td>\n",
       "      <td>0</td>\n",
       "      <td>62</td>\n",
       "    </tr>\n",
       "    <tr>\n",
       "      <th>2</th>\n",
       "      <td>Kilauea volcano: Flying lava injures 13 in Haw...</td>\n",
       "      <td>73</td>\n",
       "      <td>1018967279093141504</td>\n",
       "      <td>2018-07-16 21:15:05</td>\n",
       "      <td>SocialFlow</td>\n",
       "      <td>149</td>\n",
       "      <td>107</td>\n",
       "    </tr>\n",
       "    <tr>\n",
       "      <th>3</th>\n",
       "      <td>RT @BBCNews: 🎄🎄🎄 https://t.co/ri02D4eTkw</td>\n",
       "      <td>40</td>\n",
       "      <td>1018964308032540674</td>\n",
       "      <td>2018-07-16 21:03:17</td>\n",
       "      <td>TweetDeck</td>\n",
       "      <td>0</td>\n",
       "      <td>65</td>\n",
       "    </tr>\n",
       "    <tr>\n",
       "      <th>4</th>\n",
       "      <td>French fans give #worldcup winners a heroes' w...</td>\n",
       "      <td>123</td>\n",
       "      <td>1018954325182304258</td>\n",
       "      <td>2018-07-16 20:23:37</td>\n",
       "      <td>SocialFlow</td>\n",
       "      <td>771</td>\n",
       "      <td>213</td>\n",
       "    </tr>\n",
       "  </tbody>\n",
       "</table>\n",
       "</div>"
      ],
      "text/plain": [
       "                                              Tweets  len  \\\n",
       "0  US nuclear materials stolen last year are stil...   79   \n",
       "1  RT @BBCSport: An unusual arrival! \\n\\nDiego Ma...  139   \n",
       "2  Kilauea volcano: Flying lava injures 13 in Haw...   73   \n",
       "3           RT @BBCNews: 🎄🎄🎄 https://t.co/ri02D4eTkw   40   \n",
       "4  French fans give #worldcup winners a heroes' w...  123   \n",
       "\n",
       "                    ID                Date      Source  Likes  RTs  \n",
       "0  1018989783400542208 2018-07-16 22:44:30  SocialFlow    144  159  \n",
       "1  1018975877487579137 2018-07-16 21:49:15   TweetDeck      0   62  \n",
       "2  1018967279093141504 2018-07-16 21:15:05  SocialFlow    149  107  \n",
       "3  1018964308032540674 2018-07-16 21:03:17   TweetDeck      0   65  \n",
       "4  1018954325182304258 2018-07-16 20:23:37  SocialFlow    771  213  "
      ]
     },
     "execution_count": 24,
     "metadata": {},
     "output_type": "execute_result"
    }
   ],
   "source": [
    "#All the tweets are combined first\n",
    "combined = dfs[0].append(dfs[1], ignore_index=True)\n",
    "combined = combined.append(dfs[2], ignore_index=True)\n",
    "combined.head()"
   ]
  },
  {
   "cell_type": "code",
   "execution_count": 25,
   "metadata": {
    "collapsed": false,
    "deletable": true,
    "editable": true
   },
   "outputs": [
    {
     "name": "stdout",
     "output_type": "stream",
     "text": [
      "Different sources are:\n",
      "\n",
      "* SocialFlow\n",
      "* TweetDeck\n",
      "* SnappyTV.com\n",
      "* Media Studio\n"
     ]
    }
   ],
   "source": [
    "# We obtain all possible sources:\n",
    "\n",
    "sources = []\n",
    "for source in combined['Source']:\n",
    "    if source not in sources:\n",
    "        sources.append(source)\n",
    "print('Different sources are:\\n')\n",
    "for i in sources:\n",
    "    print('*',i)        \n"
   ]
  },
  {
   "cell_type": "code",
   "execution_count": 26,
   "metadata": {
    "collapsed": false,
    "deletable": true,
    "editable": true
   },
   "outputs": [],
   "source": [
    "#A pie chart is plotted\n",
    "\n",
    "percent = np.zeros(len(sources))\n",
    "\n",
    "for source in combined['Source']:\n",
    "    for index in range(len(sources)):\n",
    "        if source == sources[index]:\n",
    "            percent[index] += 1\n",
    "            pass\n",
    "    \n",
    "percent /= 600        "
   ]
  },
  {
   "cell_type": "code",
   "execution_count": 27,
   "metadata": {
    "collapsed": false,
    "deletable": true,
    "editable": true
   },
   "outputs": [
    {
     "data": {
      "text/plain": [
       "<matplotlib.axes._subplots.AxesSubplot at 0x1c0cbb2aa90>"
      ]
     },
     "execution_count": 27,
     "metadata": {},
     "output_type": "execute_result"
    },
    {
     "data": {
      "image/png": "[encoded data removed]",
      "text/plain": [
       "<matplotlib.figure.Figure at 0x1c0d87b2eb8>"
      ]
     },
     "metadata": {},
     "output_type": "display_data"
    }
   ],
   "source": [
    "pie_chart = pd.Series(percent, index=sources, name='Sources')\n",
    "pie_chart.plot.pie(figsize=(8,8),fontsize=12,autopct='%.2f')\n"
   ]
  },
  {
   "cell_type": "code",
   "execution_count": 28,
   "metadata": {
    "collapsed": false,
    "deletable": true,
    "editable": true
   },
   "outputs": [
    {
     "data": {
      "text/plain": [
       "SocialFlow      0.460000\n",
       "TweetDeck       0.396667\n",
       "SnappyTV.com    0.093333\n",
       "Media Studio    0.050000\n",
       "Name: Sources, dtype: float64"
      ]
     },
     "execution_count": 28,
     "metadata": {},
     "output_type": "execute_result"
    }
   ],
   "source": [
    "pie_chart"
   ]
  },
  {
   "cell_type": "markdown",
   "metadata": {
    "deletable": true,
    "editable": true
   },
   "source": [
    "## Sentimental Analysis"
   ]
  },
  {
   "cell_type": "markdown",
   "metadata": {
    "deletable": true,
    "editable": true
   },
   "source": [
    "The tweets are first cleaned. Regular expression is used to remove special characters, links, etc. from the tweets"
   ]
  },
  {
   "cell_type": "code",
   "execution_count": 31,
   "metadata": {
    "collapsed": false,
    "deletable": true,
    "editable": true
   },
   "outputs": [],
   "source": [
    "import re\n",
    "\n",
    "def clean_tweet(tweet):\n",
    "    return ' '.join(re.sub(\"(@[A-Za-z0-9]+)|([^0-9A-Za-z \\t])|(\\w+:\\/\\/\\S+)\", \" \", tweet).split())\n"
   ]
  },
  {
   "cell_type": "markdown",
   "metadata": {
    "deletable": true,
    "editable": true
   },
   "source": [
    "Textblob is used to perform sentimental analysis on the tweets. A polarity value of 0 indicates a neutral tweet, a value greater than 0 indicates a positive tweet, and a value less than 0 indicates a negative tweet."
   ]
  },
  {
   "cell_type": "code",
   "execution_count": 32,
   "metadata": {
    "collapsed": true,
    "deletable": true,
    "editable": true
   },
   "outputs": [],
   "source": [
    "from textblob import TextBlob\n",
    "def analyze_sentiment(tweet):\n",
    "    analysis = TextBlob(clean_tweet(tweet))\n",
    "    if analysis.sentiment.polarity > 0:\n",
    "        return 1\n",
    "    elif analysis.sentiment.polarity == 0:\n",
    "        return 0\n",
    "    else:\n",
    "        return -1    "
   ]
  },
  {
   "cell_type": "code",
   "execution_count": 34,
   "metadata": {
    "collapsed": false,
    "deletable": true,
    "editable": true
   },
   "outputs": [],
   "source": [
    "#Adding a new column to the dataframes that contain the polarity value.\n",
    "for i in range(3):\n",
    "    dfs[i]['SA'] = np.array([analyze_sentiment(tweet) for tweet in dfs[i]['Tweets']])"
   ]
  },
  {
   "cell_type": "code",
   "execution_count": 35,
   "metadata": {
    "collapsed": false,
    "deletable": true,
    "editable": true
   },
   "outputs": [
    {
     "data": {
      "text/html": [
       "<div>\n",
       "<style>\n",
       "    .dataframe thead tr:only-child th {\n",
       "        text-align: right;\n",
       "    }\n",
       "\n",
       "    .dataframe thead th {\n",
       "        text-align: left;\n",
       "    }\n",
       "\n",
       "    .dataframe tbody tr th {\n",
       "        vertical-align: top;\n",
       "    }\n",
       "</style>\n",
       "<table border=\"1\" class=\"dataframe\">\n",
       "  <thead>\n",
       "    <tr style=\"text-align: right;\">\n",
       "      <th></th>\n",
       "      <th>Tweets</th>\n",
       "      <th>len</th>\n",
       "      <th>ID</th>\n",
       "      <th>Date</th>\n",
       "      <th>Source</th>\n",
       "      <th>Likes</th>\n",
       "      <th>RTs</th>\n",
       "      <th>SA</th>\n",
       "    </tr>\n",
       "  </thead>\n",
       "  <tbody>\n",
       "    <tr>\n",
       "      <th>0</th>\n",
       "      <td>LIVE NOW: @AndersonCooper from Helsinki, Finla...</td>\n",
       "      <td>140</td>\n",
       "      <td>1018989611035525121</td>\n",
       "      <td>2018-07-16 22:43:49</td>\n",
       "      <td>SocialFlow</td>\n",
       "      <td>19</td>\n",
       "      <td>6</td>\n",
       "      <td>1</td>\n",
       "    </tr>\n",
       "    <tr>\n",
       "      <th>1</th>\n",
       "      <td>US President Trump clashes with his intelligen...</td>\n",
       "      <td>122</td>\n",
       "      <td>1018988655908704256</td>\n",
       "      <td>2018-07-16 22:40:02</td>\n",
       "      <td>SocialFlow</td>\n",
       "      <td>48</td>\n",
       "      <td>26</td>\n",
       "      <td>0</td>\n",
       "    </tr>\n",
       "    <tr>\n",
       "      <th>2</th>\n",
       "      <td>Here are five takeaways from the Trump-Putin H...</td>\n",
       "      <td>108</td>\n",
       "      <td>1018986143956815873</td>\n",
       "      <td>2018-07-16 22:30:03</td>\n",
       "      <td>SocialFlow</td>\n",
       "      <td>21</td>\n",
       "      <td>8</td>\n",
       "      <td>0</td>\n",
       "    </tr>\n",
       "    <tr>\n",
       "      <th>3</th>\n",
       "      <td>\"This was the day an American president stood ...</td>\n",
       "      <td>140</td>\n",
       "      <td>1018983146631647232</td>\n",
       "      <td>2018-07-16 22:18:08</td>\n",
       "      <td>SocialFlow</td>\n",
       "      <td>355</td>\n",
       "      <td>149</td>\n",
       "      <td>-1</td>\n",
       "    </tr>\n",
       "    <tr>\n",
       "      <th>4</th>\n",
       "      <td>Warren Buffett just gave $3.4 billion to chari...</td>\n",
       "      <td>96</td>\n",
       "      <td>1018981923740319744</td>\n",
       "      <td>2018-07-16 22:13:17</td>\n",
       "      <td>SocialFlow</td>\n",
       "      <td>182</td>\n",
       "      <td>59</td>\n",
       "      <td>0</td>\n",
       "    </tr>\n",
       "  </tbody>\n",
       "</table>\n",
       "</div>"
      ],
      "text/plain": [
       "                                              Tweets  len  \\\n",
       "0  LIVE NOW: @AndersonCooper from Helsinki, Finla...  140   \n",
       "1  US President Trump clashes with his intelligen...  122   \n",
       "2  Here are five takeaways from the Trump-Putin H...  108   \n",
       "3  \"This was the day an American president stood ...  140   \n",
       "4  Warren Buffett just gave $3.4 billion to chari...   96   \n",
       "\n",
       "                    ID                Date      Source  Likes  RTs  SA  \n",
       "0  1018989611035525121 2018-07-16 22:43:49  SocialFlow     19    6   1  \n",
       "1  1018988655908704256 2018-07-16 22:40:02  SocialFlow     48   26   0  \n",
       "2  1018986143956815873 2018-07-16 22:30:03  SocialFlow     21    8   0  \n",
       "3  1018983146631647232 2018-07-16 22:18:08  SocialFlow    355  149  -1  \n",
       "4  1018981923740319744 2018-07-16 22:13:17  SocialFlow    182   59   0  "
      ]
     },
     "execution_count": 35,
     "metadata": {},
     "output_type": "execute_result"
    }
   ],
   "source": [
    "dfs[1].head()"
   ]
  },
  {
   "cell_type": "markdown",
   "metadata": {
    "deletable": true,
    "editable": true
   },
   "source": [
    "The positive, negative, and neutral tweets are isolated for each channel."
   ]
  },
  {
   "cell_type": "code",
   "execution_count": 36,
   "metadata": {
    "collapsed": false,
    "deletable": true,
    "editable": true
   },
   "outputs": [],
   "source": [
    "pb,pc,pa,ub,uc,ua,nb,nc,na = [],[],[],[],[],[],[],[],[]\n",
    "\n",
    "pos_tweets=[pb,pc,pa]\n",
    "neu_tweets=[ub,uc,ua]\n",
    "neg_tweets=[nb,nc,na]\n",
    "for i in range(3):\n",
    "    pos_tweets[i] = [tweet for index,tweet in enumerate(dfs[i]['Tweets']) if dfs[i]['SA'][index] > 0]\n",
    "    neu_tweets[i] = [tweet for index,tweet in enumerate(dfs[i]['Tweets']) if dfs[i]['SA'][index] == 0]\n",
    "    neg_tweets[i] = [tweet for index,tweet in enumerate(dfs[i]['Tweets']) if dfs[i]['SA'][index] < 0]"
   ]
  },
  {
   "cell_type": "code",
   "execution_count": 38,
   "metadata": {
    "collapsed": false,
    "deletable": true,
    "editable": true
   },
   "outputs": [
    {
     "name": "stdout",
     "output_type": "stream",
     "text": [
      "Final Results: \n",
      "\n",
      "For BBC:\n",
      "Positive Tweets:  32.5\n",
      "Negative Tweets:  14.5\n",
      "Neutral Tweets:  53.0\n",
      "\n",
      "\n",
      "For CNN:\n",
      "Positive Tweets:  41.5\n",
      "Negative Tweets:  14.5\n",
      "Neutral Tweets:  44.0\n",
      "\n",
      "\n",
      "For ABC:\n",
      "Positive Tweets:  50.0\n",
      "Negative Tweets:  23.5\n",
      "Neutral Tweets:  26.5\n",
      "\n",
      "\n"
     ]
    }
   ],
   "source": [
    "print(\"Final Results: \\n\")\n",
    "pos,neg,neu=[],[],[]\n",
    "\n",
    "for i,channel in enumerate(channels):\n",
    "    print('For ' + channel + ':')\n",
    "    \n",
    "    a = len(pos_tweets[i])*100/len(dfs[i])\n",
    "    print(\"Positive Tweets: \",a)\n",
    "    pos.append(a)\n",
    "    \n",
    "    b = len(neg_tweets[i])*100/len(dfs[i])\n",
    "    print(\"Negative Tweets: \",b)\n",
    "    neg.append(b)\n",
    "    \n",
    "    c = len(neu_tweets[i])*100/len(dfs[i])\n",
    "    print(\"Neutral Tweets: \",c)\n",
    "    neu.append(c)\n",
    "    print('\\n')\n",
    "    "
   ]
  },
  {
   "cell_type": "markdown",
   "metadata": {
    "deletable": true,
    "editable": true
   },
   "source": [
    "A visualization of the distribution of the different kinds of tweets for each channel is generated. "
   ]
  },
  {
   "cell_type": "code",
   "execution_count": 39,
   "metadata": {
    "collapsed": false,
    "deletable": true,
    "editable": true
   },
   "outputs": [
    {
     "data": {
      "image/png": "[encoded data removed]",
      "text/plain": [
       "<matplotlib.figure.Figure at 0x1c0d8855fd0>"
      ]
     },
     "metadata": {},
     "output_type": "display_data"
    }
   ],
   "source": [
    "n_groups = 3\n",
    " \n",
    "plt.figure(figsize=(10,8))\n",
    "index = np.arange(n_groups)\n",
    "bar_width = 0.30\n",
    "opacity = 0.8\n",
    " \n",
    "rects1 = plt.bar(index, pos, bar_width,\n",
    "                 alpha=opacity,\n",
    "                 color='g',\n",
    "                 label='Positive news')\n",
    " \n",
    "rects2 = plt.bar(index + bar_width, neu, bar_width,\n",
    "                 alpha=opacity,\n",
    "                 color='b',\n",
    "                 label='Neutral news')\n",
    "\n",
    "\n",
    "rects2 = plt.bar(index + 2*bar_width, neg, bar_width,\n",
    "                 alpha=opacity,\n",
    "                 color='r',\n",
    "                 label='Negative news')\n",
    "\n",
    "plt.xlabel('News Channels')\n",
    "plt.ylabel('Scores')\n",
    "plt.title('Stats by channel')\n",
    "plt.xticks(index + bar_width, ('BBC', 'CNN', 'ABC'))\n",
    "plt.legend()\n",
    " \n",
    "plt.tight_layout()\n",
    "plt.show()"
   ]
  },
  {
   "cell_type": "markdown",
   "metadata": {
    "collapsed": true,
    "deletable": true,
    "editable": true
   },
   "source": [
    "It can be seen from the above results that more than 50% of tweets from ABC contain positive news and only around 23% of them are negative. So to summarise, if you want your news feed to get you in a good mood, ABC is the channel to follow!"
   ]
  }
 ],
 "metadata": {
  "kernelspec": {
   "display_name": "Python 3",
   "language": "python",
   "name": "python3"
  },
  "language_info": {
   "codemirror_mode": {
    "name": "ipython",
    "version": 3
   },
   "file_extension": ".py",
   "mimetype": "text/x-python",
   "name": "python",
   "nbconvert_exporter": "python",
   "pygments_lexer": "ipython3",
   "version": "3.5.2"
  }
 },
 "nbformat": 4,
 "nbformat_minor": 2
}
